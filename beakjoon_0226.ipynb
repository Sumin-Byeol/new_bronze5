# 사용자로부터 두 개의 정수 n과 m을 입력받음
n, m = map(int, input().split())

# 두 정수의 차이의 절대값을 계산하여 출력
print(abs(n-m))

