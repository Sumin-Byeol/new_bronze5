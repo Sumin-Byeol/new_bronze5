# 사전에 정의된 숫자 리스트 초기화
n_list = [1, 1, 2, 2, 2, 8]
# 사용자 입력을 받아 공백으로 구분된 값을 정수형 리스트로 변환
y_list = list(map(int, input().split()))

# 6번 반복하여 n_list와 y_list의 각 원소 비교
for i in range(6):
    # n_list의 i번째 원소와 y_list의 i번째 원소의 차이를 출력
    print(n_list[i] - y_list[i], end=' ')
    # end=' '를 통해 출력값 사이에 공백을 추가하여 한 줄에 연속적으로 출력
