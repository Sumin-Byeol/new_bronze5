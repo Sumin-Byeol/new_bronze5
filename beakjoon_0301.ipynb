while True:
    # 사용자로부터 두 개의 정수를 입력받아 a, b 변수에 할당합니다.
    a, b = map(int, input().split())
    # 만약 입력받은 두 수가 모두 0이면, 루프를 종료합니다.
    if a == 0 and b == 0:
        break
    # 만약 a가 b보다 크면, "Yes"를 출력합니다.
    if a > b:
        print("Yes")
    # a가 b보다 크지 않으면, "No"를 출력합니다.
    else:
        print("No")
        
