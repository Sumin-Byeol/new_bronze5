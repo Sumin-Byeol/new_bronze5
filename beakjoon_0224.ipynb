# 사용자로부터 입력받을 테스트 케이스의 수를 정의
for _ in range(int(input())):
    # 비밀번호로 가정할 문자열 입력
    input_str = input()  # 사용자 입력을 먼저 변수에 저장
    
    # 사용자가 'exit'를 입력하면 루프를 탈출
    if input_str.lower() == 'exit':
        print("Exiting...")
        break
    
    # 입력된 문자열의 길이를 비밀번호 길이로 사용
    password = len(input_str)
    
    # 비밀번호의 길이가 6에서 9 사이인지 검사
    print("yes") if 6 <= password and password <= 9 else print("no")

    
