# 주어진 숫자 리스트의 총합을 계산하는 함수
def sum_all(times):
    sum = 0  # 합계를 저장할 변수를 0으로 초기화
    
    # 리스트 a의 각 요소에 대해 반복
    for i in range(times):
        # 사용자로부터 더할 숫자들을 입력받음. 입력된 문자열은 공백으로 구분되어 리스트로 변환됨
        x = input()
        sum = sum + int(x)  # 현재 요소를 정수로 변환하여 sum에 추가
    return sum  # 계산된 총합을 반환
a=sum_all(5)
# 함수를 호출하여 입력받은 숫자들의 총합을 계산하고, 그 결과를 출력
print(a)
