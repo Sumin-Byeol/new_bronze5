print(":fan::fan::fan:")
print(f":fan::{str(input())}::fan:")
print(":fan::fan::fan:")

