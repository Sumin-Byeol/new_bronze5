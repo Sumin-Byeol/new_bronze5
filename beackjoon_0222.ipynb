N, B, S = map(int,input().split())
if S > B :
    print("Bus")
elif S == B :
    print("Anything")
else:
    print("Subway")

